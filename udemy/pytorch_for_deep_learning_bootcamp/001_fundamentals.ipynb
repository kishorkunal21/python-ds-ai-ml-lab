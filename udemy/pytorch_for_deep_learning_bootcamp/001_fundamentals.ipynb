{
 "cells": [
  {
   "cell_type": "code",
   "execution_count": 1,
   "metadata": {},
   "outputs": [
    {
     "data": {
      "text/plain": [
       "'2.6.0'"
      ]
     },
     "execution_count": 1,
     "metadata": {},
     "output_type": "execute_result"
    }
   ],
   "source": [
    "import torch\n",
    "torch.__version__"
   ]
  },
  {
   "cell_type": "markdown",
   "metadata": {},
   "source": [
    "### Tensors"
   ]
  },
  {
   "cell_type": "code",
   "execution_count": 4,
   "metadata": {},
   "outputs": [
    {
     "data": {
      "text/plain": [
       "tensor(3)"
      ]
     },
     "execution_count": 4,
     "metadata": {},
     "output_type": "execute_result"
    }
   ],
   "source": [
    "scaler = torch.tensor(3)\n",
    "scaler"
   ]
  },
  {
   "cell_type": "code",
   "execution_count": 10,
   "metadata": {},
   "outputs": [
    {
     "data": {
      "text/plain": [
       "0"
      ]
     },
     "execution_count": 10,
     "metadata": {},
     "output_type": "execute_result"
    }
   ],
   "source": [
    "scaler.ndim"
   ]
  },
  {
   "cell_type": "code",
   "execution_count": 12,
   "metadata": {},
   "outputs": [
    {
     "data": {
      "text/plain": [
       "3"
      ]
     },
     "execution_count": 12,
     "metadata": {},
     "output_type": "execute_result"
    }
   ],
   "source": [
    "scaler.item() # get the python int from scaler"
   ]
  },
  {
   "cell_type": "code",
   "execution_count": 15,
   "metadata": {},
   "outputs": [
    {
     "data": {
      "text/plain": [
       "tensor([2, 3, 4])"
      ]
     },
     "execution_count": 15,
     "metadata": {},
     "output_type": "execute_result"
    }
   ],
   "source": [
    "vector = torch.tensor([2,3,4])\n",
    "vector"
   ]
  },
  {
   "cell_type": "code",
   "execution_count": 16,
   "metadata": {},
   "outputs": [
    {
     "name": "stdout",
     "output_type": "stream",
     "text": [
      "1 torch.Size([3])\n"
     ]
    }
   ],
   "source": [
    "print(vector.ndim, vector.shape) # returns 3 because 3 elements where paces inside []"
   ]
  },
  {
   "cell_type": "code",
   "execution_count": 19,
   "metadata": {},
   "outputs": [
    {
     "data": {
      "text/plain": [
       "tensor([[[2, 3, 4],\n",
       "         [1, 1, 1],\n",
       "         [3, 3, 3],\n",
       "         [4, 4, 4]]])"
      ]
     },
     "execution_count": 19,
     "metadata": {},
     "output_type": "execute_result"
    }
   ],
   "source": [
    "vector = torch.tensor([[[2,3,4],\n",
    "                        [1,1,1],\n",
    "                        [3,3,3],\n",
    "                        [4,4,4]]])\n",
    "vector"
   ]
  },
  {
   "cell_type": "code",
   "execution_count": 21,
   "metadata": {},
   "outputs": [
    {
     "data": {
      "text/plain": [
       "torch.Size([1, 4, 3])"
      ]
     },
     "execution_count": 21,
     "metadata": {},
     "output_type": "execute_result"
    }
   ],
   "source": [
    "vector.shape \n",
    "###\n",
    "# 0 = outer array\n",
    "# 1 = no of elements\n",
    "# 3 = no if elements in innermost array\n"
   ]
  },
  {
   "cell_type": "code",
   "execution_count": 26,
   "metadata": {},
   "outputs": [
    {
     "data": {
      "text/plain": [
       "tensor([[11, 22],\n",
       "        [11, 22],\n",
       "        [11, 22]])"
      ]
     },
     "execution_count": 26,
     "metadata": {},
     "output_type": "execute_result"
    }
   ],
   "source": [
    "#vector  = a 2-dimensional array of numbers\n",
    "#matrix = n dim array of num\n",
    "MATRIX =  torch.tensor([[11,22],[11,22],[11,22]])\n",
    "MATRIX"
   ]
  },
  {
   "cell_type": "code",
   "execution_count": 25,
   "metadata": {},
   "outputs": [
    {
     "data": {
      "text/plain": [
       "torch.Size([3, 2])"
      ]
     },
     "execution_count": 25,
     "metadata": {},
     "output_type": "execute_result"
    }
   ],
   "source": [
    "MATRIX.shape # col and row"
   ]
  },
  {
   "cell_type": "code",
   "execution_count": 30,
   "metadata": {},
   "outputs": [
    {
     "data": {
      "text/plain": [
       "tensor([[[0.5144, 0.4548, 0.9302],\n",
       "         [0.3392, 0.8633, 0.1999],\n",
       "         [0.9276, 0.9917, 0.9107],\n",
       "         ...,\n",
       "         [0.1331, 0.0767, 0.3528],\n",
       "         [0.3718, 0.5006, 0.7749],\n",
       "         [0.3111, 0.4472, 0.5971]],\n",
       "\n",
       "        [[0.8960, 0.9571, 0.5567],\n",
       "         [0.8087, 0.8386, 0.3021],\n",
       "         [0.4302, 0.8666, 0.3486],\n",
       "         ...,\n",
       "         [0.1869, 0.0300, 0.7954],\n",
       "         [0.7390, 0.0783, 0.5547],\n",
       "         [0.1252, 0.3264, 0.9528]],\n",
       "\n",
       "        [[0.2644, 0.0677, 0.3986],\n",
       "         [0.9754, 0.0296, 0.3709],\n",
       "         [0.2845, 0.1869, 0.2744],\n",
       "         ...,\n",
       "         [0.3334, 0.5141, 0.5177],\n",
       "         [0.3406, 0.5589, 0.9212],\n",
       "         [0.1733, 0.2721, 0.4506]],\n",
       "\n",
       "        ...,\n",
       "\n",
       "        [[0.2817, 0.0010, 0.6317],\n",
       "         [0.2525, 0.3573, 0.8219],\n",
       "         [0.1436, 0.0642, 0.0162],\n",
       "         ...,\n",
       "         [0.9358, 0.4265, 0.7207],\n",
       "         [0.9082, 0.8337, 0.0866],\n",
       "         [0.7553, 0.5923, 0.7752]],\n",
       "\n",
       "        [[0.3683, 0.1834, 0.9447],\n",
       "         [0.7489, 0.0753, 0.5721],\n",
       "         [0.4459, 0.6427, 0.2267],\n",
       "         ...,\n",
       "         [0.0595, 0.6459, 0.7470],\n",
       "         [0.4560, 0.7305, 0.6350],\n",
       "         [0.0346, 0.6655, 0.1732]],\n",
       "\n",
       "        [[0.8807, 0.8009, 0.0347],\n",
       "         [0.4441, 0.3044, 0.7134],\n",
       "         [0.1205, 0.4365, 0.2015],\n",
       "         ...,\n",
       "         [0.9362, 0.9758, 0.8286],\n",
       "         [0.4373, 0.6619, 0.3213],\n",
       "         [0.8503, 0.8056, 0.8170]]])"
      ]
     },
     "execution_count": 30,
     "metadata": {},
     "output_type": "execute_result"
    }
   ],
   "source": [
    "### random tensors\n",
    "\n",
    "torch.rand(size=(224,224,3)) #image tensor random"
   ]
  },
  {
   "cell_type": "code",
   "execution_count": 31,
   "metadata": {},
   "outputs": [
    {
     "data": {
      "text/plain": [
       "tensor([[0., 0., 0., 0.],\n",
       "        [0., 0., 0., 0.],\n",
       "        [0., 0., 0., 0.]])"
      ]
     },
     "execution_count": 31,
     "metadata": {},
     "output_type": "execute_result"
    }
   ],
   "source": [
    "torch.zeros(size=(3,4))"
   ]
  },
  {
   "cell_type": "code",
   "execution_count": 32,
   "metadata": {},
   "outputs": [
    {
     "data": {
      "text/plain": [
       "tensor([[1., 1., 1., 1., 1.],\n",
       "        [1., 1., 1., 1., 1.],\n",
       "        [1., 1., 1., 1., 1.],\n",
       "        [1., 1., 1., 1., 1.]])"
      ]
     },
     "execution_count": 32,
     "metadata": {},
     "output_type": "execute_result"
    }
   ],
   "source": [
    "torch.ones(size=(4,5))"
   ]
  },
  {
   "cell_type": "code",
   "execution_count": 36,
   "metadata": {},
   "outputs": [
    {
     "data": {
      "text/plain": [
       "tensor([[0, 0, 0, 0, 0],\n",
       "        [0, 0, 0, 0, 0],\n",
       "        [0, 0, 0, 0, 0],\n",
       "        [0, 0, 0, 0, 0]])"
      ]
     },
     "execution_count": 36,
     "metadata": {},
     "output_type": "execute_result"
    }
   ],
   "source": [
    "zero_like_tensor =  torch.zeros_like(torch.ones(size=(4,5)),dtype=int)\n",
    "zero_like_tensor"
   ]
  },
  {
   "cell_type": "code",
   "execution_count": 37,
   "metadata": {},
   "outputs": [
    {
     "data": {
      "text/plain": [
       "device(type='cpu')"
      ]
     },
     "execution_count": 37,
     "metadata": {},
     "output_type": "execute_result"
    }
   ],
   "source": [
    "zero_like_tensor.device"
   ]
  },
  {
   "cell_type": "markdown",
   "metadata": {},
   "source": [
    "#### Manupulating tensors"
   ]
  },
  {
   "cell_type": "code",
   "execution_count": null,
   "metadata": {},
   "outputs": [],
   "source": []
  }
 ],
 "metadata": {
  "kernelspec": {
   "display_name": "pytorchudemy",
   "language": "python",
   "name": "python3"
  },
  "language_info": {
   "codemirror_mode": {
    "name": "ipython",
    "version": 3
   },
   "file_extension": ".py",
   "mimetype": "text/x-python",
   "name": "python",
   "nbconvert_exporter": "python",
   "pygments_lexer": "ipython3",
   "version": "3.12.8"
  }
 },
 "nbformat": 4,
 "nbformat_minor": 2
}
